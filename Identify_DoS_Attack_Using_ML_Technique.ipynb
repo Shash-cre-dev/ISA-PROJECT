{
  "cells": [
    {
      "cell_type": "code",
      "execution_count": 1,
      "metadata": {
        "colab": {
          "base_uri": "https://localhost:8080/",
          "height": 53
        },
        "id": "F0hogJAwzAOQ",
        "outputId": "3cd5ce1b-4650-43cf-9397-695a4363eea2"
      },
      "outputs": [
        {
          "output_type": "execute_result",
          "data": {
            "text/plain": [
              "'\\n\\nnumpy is imported as np for numerical computations.\\npandas is imported as pd for data manipulation and analysis.\\nVarious classifiers are imported from sklearn for building classification models.\\n\\n'"
            ],
            "application/vnd.google.colaboratory.intrinsic+json": {
              "type": "string"
            }
          },
          "metadata": {},
          "execution_count": 1
        }
      ],
      "source": [
        "import numpy as np\n",
        "import pandas as pd\n",
        "from sklearn.model_selection import train_test_split\n",
        "from sklearn.preprocessing import StandardScaler\n",
        "from sklearn.preprocessing import LabelEncoder\n",
        "from sklearn.metrics import accuracy_score\n",
        "from sklearn.svm import SVC\n",
        "from sklearn.neighbors import KNeighborsClassifier\n",
        "from sklearn.naive_bayes import GaussianNB\n",
        "from sklearn.ensemble import RandomForestClassifier\n",
        "\n",
        "\"\"\"\n",
        "\n",
        "numpy is imported as np for numerical computations.\n",
        "pandas is imported as pd for data manipulation and analysis.\n",
        "Various classifiers are imported from sklearn for building classification models.\n",
        "\n",
        "\"\"\""
      ]
    },
    {
      "cell_type": "code",
      "execution_count": 2,
      "metadata": {
        "colab": {
          "base_uri": "https://localhost:8080/",
          "height": 299
        },
        "id": "yenU__aBzAOY",
        "outputId": "2bf47e8b-2cf9-400c-c072-a6b76a1c001d"
      },
      "outputs": [
        {
          "output_type": "execute_result",
          "data": {
            "text/plain": [
              "   SRC_ADD  DES_ADD  PKT_ID  FROM_NODE  TO_NODE PKT_TYPE  PKT_SIZE    FLAGS  \\\n",
              "0     3.00    24.30  389693         21       23      tcp      1540  -------   \n",
              "1    15.00    24.15  201196         23       24      tcp      1540  -------   \n",
              "2    24.15    15.00   61905         23       22      ack        55  -------   \n",
              "3    13.00    24.13  368498         22       23      tcp      1540  -------   \n",
              "4    14.00    24.14  324931         14       22      tcp      1540  -------   \n",
              "\n",
              "   FID  SEQ_NUMBER  ...    PKT_RATE  BYTE_RATE PKT_AVG_SIZE UTILIZATION  \\\n",
              "0    4       11339  ...  328.240918   505490.0       1540.0    0.236321   \n",
              "1   16        6274  ...  328.205808   505437.0       1540.0    0.236337   \n",
              "2   16        1930  ...  328.206042    18051.3         55.0    0.008441   \n",
              "3   14       10809  ...  328.460131   505828.0       1540.0    0.236498   \n",
              "4   15        9707  ...  328.431807   505785.0       1540.0    0.236498   \n",
              "\n",
              "   PKT_DELAY  PKT_SEND_TIME  PKT_RESEVED_TIME  FIRST_PKT_SENT  \\\n",
              "0        0.0      35.519662         35.550032        1.000000   \n",
              "1        0.0      20.156478         20.186848        1.000000   \n",
              "2        0.0       7.039952          7.069962        1.030045   \n",
              "3        0.0      33.895548         33.925917        1.000000   \n",
              "4        0.0      30.550052         30.580421        1.000000   \n",
              "\n",
              "   LAST_PKT_RESEVED  PKT_CLASS  \n",
              "0         50.021920     Normal  \n",
              "1         50.030211     Normal  \n",
              "2         50.060221  UDP-Flood  \n",
              "3         50.025737     Normal  \n",
              "4         50.029965     Normal  \n",
              "\n",
              "[5 rows x 28 columns]"
            ],
            "text/html": [
              "\n",
              "  <div id=\"df-9801a16c-fb3c-488d-bcf6-57edceb72bc1\">\n",
              "    <div class=\"colab-df-container\">\n",
              "      <div>\n",
              "<style scoped>\n",
              "    .dataframe tbody tr th:only-of-type {\n",
              "        vertical-align: middle;\n",
              "    }\n",
              "\n",
              "    .dataframe tbody tr th {\n",
              "        vertical-align: top;\n",
              "    }\n",
              "\n",
              "    .dataframe thead th {\n",
              "        text-align: right;\n",
              "    }\n",
              "</style>\n",
              "<table border=\"1\" class=\"dataframe\">\n",
              "  <thead>\n",
              "    <tr style=\"text-align: right;\">\n",
              "      <th></th>\n",
              "      <th>SRC_ADD</th>\n",
              "      <th>DES_ADD</th>\n",
              "      <th>PKT_ID</th>\n",
              "      <th>FROM_NODE</th>\n",
              "      <th>TO_NODE</th>\n",
              "      <th>PKT_TYPE</th>\n",
              "      <th>PKT_SIZE</th>\n",
              "      <th>FLAGS</th>\n",
              "      <th>FID</th>\n",
              "      <th>SEQ_NUMBER</th>\n",
              "      <th>...</th>\n",
              "      <th>PKT_RATE</th>\n",
              "      <th>BYTE_RATE</th>\n",
              "      <th>PKT_AVG_SIZE</th>\n",
              "      <th>UTILIZATION</th>\n",
              "      <th>PKT_DELAY</th>\n",
              "      <th>PKT_SEND_TIME</th>\n",
              "      <th>PKT_RESEVED_TIME</th>\n",
              "      <th>FIRST_PKT_SENT</th>\n",
              "      <th>LAST_PKT_RESEVED</th>\n",
              "      <th>PKT_CLASS</th>\n",
              "    </tr>\n",
              "  </thead>\n",
              "  <tbody>\n",
              "    <tr>\n",
              "      <th>0</th>\n",
              "      <td>3.00</td>\n",
              "      <td>24.30</td>\n",
              "      <td>389693</td>\n",
              "      <td>21</td>\n",
              "      <td>23</td>\n",
              "      <td>tcp</td>\n",
              "      <td>1540</td>\n",
              "      <td>-------</td>\n",
              "      <td>4</td>\n",
              "      <td>11339</td>\n",
              "      <td>...</td>\n",
              "      <td>328.240918</td>\n",
              "      <td>505490.0</td>\n",
              "      <td>1540.0</td>\n",
              "      <td>0.236321</td>\n",
              "      <td>0.0</td>\n",
              "      <td>35.519662</td>\n",
              "      <td>35.550032</td>\n",
              "      <td>1.000000</td>\n",
              "      <td>50.021920</td>\n",
              "      <td>Normal</td>\n",
              "    </tr>\n",
              "    <tr>\n",
              "      <th>1</th>\n",
              "      <td>15.00</td>\n",
              "      <td>24.15</td>\n",
              "      <td>201196</td>\n",
              "      <td>23</td>\n",
              "      <td>24</td>\n",
              "      <td>tcp</td>\n",
              "      <td>1540</td>\n",
              "      <td>-------</td>\n",
              "      <td>16</td>\n",
              "      <td>6274</td>\n",
              "      <td>...</td>\n",
              "      <td>328.205808</td>\n",
              "      <td>505437.0</td>\n",
              "      <td>1540.0</td>\n",
              "      <td>0.236337</td>\n",
              "      <td>0.0</td>\n",
              "      <td>20.156478</td>\n",
              "      <td>20.186848</td>\n",
              "      <td>1.000000</td>\n",
              "      <td>50.030211</td>\n",
              "      <td>Normal</td>\n",
              "    </tr>\n",
              "    <tr>\n",
              "      <th>2</th>\n",
              "      <td>24.15</td>\n",
              "      <td>15.00</td>\n",
              "      <td>61905</td>\n",
              "      <td>23</td>\n",
              "      <td>22</td>\n",
              "      <td>ack</td>\n",
              "      <td>55</td>\n",
              "      <td>-------</td>\n",
              "      <td>16</td>\n",
              "      <td>1930</td>\n",
              "      <td>...</td>\n",
              "      <td>328.206042</td>\n",
              "      <td>18051.3</td>\n",
              "      <td>55.0</td>\n",
              "      <td>0.008441</td>\n",
              "      <td>0.0</td>\n",
              "      <td>7.039952</td>\n",
              "      <td>7.069962</td>\n",
              "      <td>1.030045</td>\n",
              "      <td>50.060221</td>\n",
              "      <td>UDP-Flood</td>\n",
              "    </tr>\n",
              "    <tr>\n",
              "      <th>3</th>\n",
              "      <td>13.00</td>\n",
              "      <td>24.13</td>\n",
              "      <td>368498</td>\n",
              "      <td>22</td>\n",
              "      <td>23</td>\n",
              "      <td>tcp</td>\n",
              "      <td>1540</td>\n",
              "      <td>-------</td>\n",
              "      <td>14</td>\n",
              "      <td>10809</td>\n",
              "      <td>...</td>\n",
              "      <td>328.460131</td>\n",
              "      <td>505828.0</td>\n",
              "      <td>1540.0</td>\n",
              "      <td>0.236498</td>\n",
              "      <td>0.0</td>\n",
              "      <td>33.895548</td>\n",
              "      <td>33.925917</td>\n",
              "      <td>1.000000</td>\n",
              "      <td>50.025737</td>\n",
              "      <td>Normal</td>\n",
              "    </tr>\n",
              "    <tr>\n",
              "      <th>4</th>\n",
              "      <td>14.00</td>\n",
              "      <td>24.14</td>\n",
              "      <td>324931</td>\n",
              "      <td>14</td>\n",
              "      <td>22</td>\n",
              "      <td>tcp</td>\n",
              "      <td>1540</td>\n",
              "      <td>-------</td>\n",
              "      <td>15</td>\n",
              "      <td>9707</td>\n",
              "      <td>...</td>\n",
              "      <td>328.431807</td>\n",
              "      <td>505785.0</td>\n",
              "      <td>1540.0</td>\n",
              "      <td>0.236498</td>\n",
              "      <td>0.0</td>\n",
              "      <td>30.550052</td>\n",
              "      <td>30.580421</td>\n",
              "      <td>1.000000</td>\n",
              "      <td>50.029965</td>\n",
              "      <td>Normal</td>\n",
              "    </tr>\n",
              "  </tbody>\n",
              "</table>\n",
              "<p>5 rows × 28 columns</p>\n",
              "</div>\n",
              "      <button class=\"colab-df-convert\" onclick=\"convertToInteractive('df-9801a16c-fb3c-488d-bcf6-57edceb72bc1')\"\n",
              "              title=\"Convert this dataframe to an interactive table.\"\n",
              "              style=\"display:none;\">\n",
              "        \n",
              "  <svg xmlns=\"http://www.w3.org/2000/svg\" height=\"24px\"viewBox=\"0 0 24 24\"\n",
              "       width=\"24px\">\n",
              "    <path d=\"M0 0h24v24H0V0z\" fill=\"none\"/>\n",
              "    <path d=\"M18.56 5.44l.94 2.06.94-2.06 2.06-.94-2.06-.94-.94-2.06-.94 2.06-2.06.94zm-11 1L8.5 8.5l.94-2.06 2.06-.94-2.06-.94L8.5 2.5l-.94 2.06-2.06.94zm10 10l.94 2.06.94-2.06 2.06-.94-2.06-.94-.94-2.06-.94 2.06-2.06.94z\"/><path d=\"M17.41 7.96l-1.37-1.37c-.4-.4-.92-.59-1.43-.59-.52 0-1.04.2-1.43.59L10.3 9.45l-7.72 7.72c-.78.78-.78 2.05 0 2.83L4 21.41c.39.39.9.59 1.41.59.51 0 1.02-.2 1.41-.59l7.78-7.78 2.81-2.81c.8-.78.8-2.07 0-2.86zM5.41 20L4 18.59l7.72-7.72 1.47 1.35L5.41 20z\"/>\n",
              "  </svg>\n",
              "      </button>\n",
              "      \n",
              "  <style>\n",
              "    .colab-df-container {\n",
              "      display:flex;\n",
              "      flex-wrap:wrap;\n",
              "      gap: 12px;\n",
              "    }\n",
              "\n",
              "    .colab-df-convert {\n",
              "      background-color: #E8F0FE;\n",
              "      border: none;\n",
              "      border-radius: 50%;\n",
              "      cursor: pointer;\n",
              "      display: none;\n",
              "      fill: #1967D2;\n",
              "      height: 32px;\n",
              "      padding: 0 0 0 0;\n",
              "      width: 32px;\n",
              "    }\n",
              "\n",
              "    .colab-df-convert:hover {\n",
              "      background-color: #E2EBFA;\n",
              "      box-shadow: 0px 1px 2px rgba(60, 64, 67, 0.3), 0px 1px 3px 1px rgba(60, 64, 67, 0.15);\n",
              "      fill: #174EA6;\n",
              "    }\n",
              "\n",
              "    [theme=dark] .colab-df-convert {\n",
              "      background-color: #3B4455;\n",
              "      fill: #D2E3FC;\n",
              "    }\n",
              "\n",
              "    [theme=dark] .colab-df-convert:hover {\n",
              "      background-color: #434B5C;\n",
              "      box-shadow: 0px 1px 3px 1px rgba(0, 0, 0, 0.15);\n",
              "      filter: drop-shadow(0px 1px 2px rgba(0, 0, 0, 0.3));\n",
              "      fill: #FFFFFF;\n",
              "    }\n",
              "  </style>\n",
              "\n",
              "      <script>\n",
              "        const buttonEl =\n",
              "          document.querySelector('#df-9801a16c-fb3c-488d-bcf6-57edceb72bc1 button.colab-df-convert');\n",
              "        buttonEl.style.display =\n",
              "          google.colab.kernel.accessAllowed ? 'block' : 'none';\n",
              "\n",
              "        async function convertToInteractive(key) {\n",
              "          const element = document.querySelector('#df-9801a16c-fb3c-488d-bcf6-57edceb72bc1');\n",
              "          const dataTable =\n",
              "            await google.colab.kernel.invokeFunction('convertToInteractive',\n",
              "                                                     [key], {});\n",
              "          if (!dataTable) return;\n",
              "\n",
              "          const docLinkHtml = 'Like what you see? Visit the ' +\n",
              "            '<a target=\"_blank\" href=https://colab.research.google.com/notebooks/data_table.ipynb>data table notebook</a>'\n",
              "            + ' to learn more about interactive tables.';\n",
              "          element.innerHTML = '';\n",
              "          dataTable['output_type'] = 'display_data';\n",
              "          await google.colab.output.renderOutput(dataTable, element);\n",
              "          const docLink = document.createElement('div');\n",
              "          docLink.innerHTML = docLinkHtml;\n",
              "          element.appendChild(docLink);\n",
              "        }\n",
              "      </script>\n",
              "    </div>\n",
              "  </div>\n",
              "  "
            ]
          },
          "metadata": {},
          "execution_count": 2
        }
      ],
      "source": [
        "data = pd.read_csv(\"/content/final-dataset.csv\")\n",
        "data.head()"
      ]
    },
    {
      "cell_type": "code",
      "execution_count": 3,
      "metadata": {
        "colab": {
          "base_uri": "https://localhost:8080/"
        },
        "id": "XuNwHCouzAOa",
        "outputId": "d394021f-e2ca-43be-f51e-f54905b033aa"
      },
      "outputs": [
        {
          "output_type": "stream",
          "name": "stdout",
          "text": [
            "<class 'pandas.core.frame.DataFrame'>\n",
            "RangeIndex: 2968 entries, 0 to 2967\n",
            "Data columns (total 28 columns):\n",
            " #   Column            Non-Null Count  Dtype  \n",
            "---  ------            --------------  -----  \n",
            " 0   SRC_ADD           2968 non-null   float64\n",
            " 1   DES_ADD           2968 non-null   float64\n",
            " 2   PKT_ID            2968 non-null   int64  \n",
            " 3   FROM_NODE         2968 non-null   int64  \n",
            " 4   TO_NODE           2968 non-null   int64  \n",
            " 5   PKT_TYPE          2968 non-null   object \n",
            " 6   PKT_SIZE          2968 non-null   int64  \n",
            " 7   FLAGS             2968 non-null   object \n",
            " 8   FID               2968 non-null   int64  \n",
            " 9   SEQ_NUMBER        2968 non-null   int64  \n",
            " 10  NUMBER_OF_PKT     2968 non-null   int64  \n",
            " 11  NUMBER_OF_BYTE    2968 non-null   int64  \n",
            " 12  NODE_NAME_FROM    2968 non-null   object \n",
            " 13  NODE_NAME_TO      2968 non-null   object \n",
            " 14  PKT_IN            2968 non-null   float64\n",
            " 15  PKT_OUT           2968 non-null   float64\n",
            " 16  PKT_R             2968 non-null   float64\n",
            " 17  PKT_DELAY_NODE    2968 non-null   float64\n",
            " 18  PKT_RATE          2968 non-null   float64\n",
            " 19  BYTE_RATE         2968 non-null   float64\n",
            " 20  PKT_AVG_SIZE      2968 non-null   float64\n",
            " 21  UTILIZATION       2968 non-null   float64\n",
            " 22  PKT_DELAY         2968 non-null   float64\n",
            " 23  PKT_SEND_TIME     2968 non-null   float64\n",
            " 24  PKT_RESEVED_TIME  2968 non-null   float64\n",
            " 25  FIRST_PKT_SENT    2968 non-null   float64\n",
            " 26  LAST_PKT_RESEVED  2968 non-null   float64\n",
            " 27  PKT_CLASS         2968 non-null   object \n",
            "dtypes: float64(15), int64(8), object(5)\n",
            "memory usage: 649.4+ KB\n"
          ]
        }
      ],
      "source": [
        "data.info()"
      ]
    },
    {
      "cell_type": "code",
      "source": [
        "a = LabelEncoder()\n",
        "for i in data.columns:\n",
        "  if data[i].dtype == 'object':\n",
        "    data[i] = a.fit_transform(data[i])"
      ],
      "metadata": {
        "id": "EQUmeI2w10rK"
      },
      "execution_count": 4,
      "outputs": []
    },
    {
      "cell_type": "code",
      "source": [
        "data.info()"
      ],
      "metadata": {
        "colab": {
          "base_uri": "https://localhost:8080/"
        },
        "id": "t2iTEOVi2dSY",
        "outputId": "e6696977-1271-477d-a675-e399138e6458"
      },
      "execution_count": 5,
      "outputs": [
        {
          "output_type": "stream",
          "name": "stdout",
          "text": [
            "<class 'pandas.core.frame.DataFrame'>\n",
            "RangeIndex: 2968 entries, 0 to 2967\n",
            "Data columns (total 28 columns):\n",
            " #   Column            Non-Null Count  Dtype  \n",
            "---  ------            --------------  -----  \n",
            " 0   SRC_ADD           2968 non-null   float64\n",
            " 1   DES_ADD           2968 non-null   float64\n",
            " 2   PKT_ID            2968 non-null   int64  \n",
            " 3   FROM_NODE         2968 non-null   int64  \n",
            " 4   TO_NODE           2968 non-null   int64  \n",
            " 5   PKT_TYPE          2968 non-null   int64  \n",
            " 6   PKT_SIZE          2968 non-null   int64  \n",
            " 7   FLAGS             2968 non-null   int64  \n",
            " 8   FID               2968 non-null   int64  \n",
            " 9   SEQ_NUMBER        2968 non-null   int64  \n",
            " 10  NUMBER_OF_PKT     2968 non-null   int64  \n",
            " 11  NUMBER_OF_BYTE    2968 non-null   int64  \n",
            " 12  NODE_NAME_FROM    2968 non-null   int64  \n",
            " 13  NODE_NAME_TO      2968 non-null   int64  \n",
            " 14  PKT_IN            2968 non-null   float64\n",
            " 15  PKT_OUT           2968 non-null   float64\n",
            " 16  PKT_R             2968 non-null   float64\n",
            " 17  PKT_DELAY_NODE    2968 non-null   float64\n",
            " 18  PKT_RATE          2968 non-null   float64\n",
            " 19  BYTE_RATE         2968 non-null   float64\n",
            " 20  PKT_AVG_SIZE      2968 non-null   float64\n",
            " 21  UTILIZATION       2968 non-null   float64\n",
            " 22  PKT_DELAY         2968 non-null   float64\n",
            " 23  PKT_SEND_TIME     2968 non-null   float64\n",
            " 24  PKT_RESEVED_TIME  2968 non-null   float64\n",
            " 25  FIRST_PKT_SENT    2968 non-null   float64\n",
            " 26  LAST_PKT_RESEVED  2968 non-null   float64\n",
            " 27  PKT_CLASS         2968 non-null   int64  \n",
            "dtypes: float64(15), int64(13)\n",
            "memory usage: 649.4 KB\n"
          ]
        }
      ]
    },
    {
      "cell_type": "code",
      "execution_count": 6,
      "metadata": {
        "id": "H2q8xfNZzAOb"
      },
      "outputs": [],
      "source": [
        "X = data.drop('PKT_CLASS',axis=1)\n",
        "Y = data['PKT_CLASS']\n",
        "\n",
        "X_train, X_test, Y_train, Y_test = train_test_split(X,Y,test_size=0.2,random_state=0)\n"
      ]
    },
    {
      "cell_type": "code",
      "execution_count": 7,
      "metadata": {
        "colab": {
          "base_uri": "https://localhost:8080/"
        },
        "id": "TRfv0WQKzAOc",
        "outputId": "6f8e050a-cabf-4445-fb7c-6660619becf0"
      },
      "outputs": [
        {
          "output_type": "stream",
          "name": "stdout",
          "text": [
            "2968\n"
          ]
        }
      ],
      "source": [
        "l=len(X)\n",
        "print(l)\n"
      ]
    },
    {
      "cell_type": "code",
      "execution_count": 8,
      "metadata": {
        "colab": {
          "base_uri": "https://localhost:8080/"
        },
        "id": "ST8dFDMGzAOd",
        "outputId": "13877292-0600-4dc0-e848-d5ddcc822c47"
      },
      "outputs": [
        {
          "output_type": "stream",
          "name": "stdout",
          "text": [
            "      SRC_ADD  DES_ADD  PKT_ID  FROM_NODE  TO_NODE  PKT_TYPE  PKT_SIZE  FLAGS  \\\n",
            "0        3.00    24.30  389693         21       23         3      1540      0   \n",
            "1       15.00    24.15  201196         23       24         3      1540      0   \n",
            "2       24.15    15.00   61905         23       22         0        55      0   \n",
            "3       13.00    24.13  368498         22       23         3      1540      0   \n",
            "4       14.00    24.14  324931         14       22         3      1540      0   \n",
            "...       ...      ...     ...        ...      ...       ...       ...    ...   \n",
            "2963     3.10    24.23  588738          3       21         1      1000      0   \n",
            "2964    24.40     4.00  471172         21        4         0        55      0   \n",
            "2965    24.00     0.00  425692         23       21         0        55      0   \n",
            "2966    14.20    24.56   32181         14       22         1      1500      0   \n",
            "2967     4.00    24.40  242435          4       21         3      1540      0   \n",
            "\n",
            "      FID  SEQ_NUMBER  ...  PKT_DELAY_NODE     PKT_RATE  BYTE_RATE  \\\n",
            "0       4       11339  ...             0.0   328.240918   505490.0   \n",
            "1      16        6274  ...             0.0   328.205808   505437.0   \n",
            "2      16        1930  ...             0.0   328.206042    18051.3   \n",
            "3      14       10809  ...             0.0   328.460131   505828.0   \n",
            "4      15        9707  ...             0.0   328.431807   505785.0   \n",
            "...   ...         ...  ...             ...          ...        ...   \n",
            "2963   24        3626  ...             0.0   124.943226   124943.0   \n",
            "2964    5       13382  ...             0.0   328.218006    18052.0   \n",
            "2965    1       12238  ...             0.0   328.316229    18057.4   \n",
            "2966   35        1230  ...             0.0  1016.437200  1524660.0   \n",
            "2967    5        7566  ...             0.0   328.217832   505455.0   \n",
            "\n",
            "      PKT_AVG_SIZE  UTILIZATION  PKT_DELAY  PKT_SEND_TIME  PKT_RESEVED_TIME  \\\n",
            "0           1540.0     0.236321    0.00000      35.519662         35.550032   \n",
            "1           1540.0     0.236337    0.00000      20.156478         20.186848   \n",
            "2             55.0     0.008441    0.00000       7.039952          7.069962   \n",
            "3           1540.0     0.236498    0.00000      33.895548         33.925917   \n",
            "4           1540.0     0.236498    0.00000      30.550052         30.580421   \n",
            "...            ...          ...        ...            ...               ...   \n",
            "2963        1000.0     0.059605    0.00048      54.008000         54.038720   \n",
            "2964          55.0     0.008440    0.00000      41.768616         41.798626   \n",
            "2965          55.0     0.008440    0.00000      38.281165         38.311175   \n",
            "2966        1500.0     0.130291    0.03096      30.988571         31.019531   \n",
            "2967        1540.0     0.236321    0.00000      24.039396         24.069766   \n",
            "\n",
            "      FIRST_PKT_SENT  LAST_PKT_RESEVED  \n",
            "0           1.000000         50.021920  \n",
            "1           1.000000         50.030211  \n",
            "2           1.030045         50.060221  \n",
            "3           1.000000         50.025737  \n",
            "4           1.000000         50.029965  \n",
            "...              ...               ...  \n",
            "2963       25.000000         75.022720  \n",
            "2964        1.030035         50.055377  \n",
            "2965        1.030010         50.040685  \n",
            "2966        1.000000          9.960711  \n",
            "2967        1.000000         50.025368  \n",
            "\n",
            "[2968 rows x 27 columns]\n",
            "0       1\n",
            "1       1\n",
            "2       4\n",
            "3       1\n",
            "4       1\n",
            "       ..\n",
            "2963    1\n",
            "2964    1\n",
            "2965    1\n",
            "2966    4\n",
            "2967    1\n",
            "Name: PKT_CLASS, Length: 2968, dtype: int64\n"
          ]
        }
      ],
      "source": [
        "print(X)\n",
        "print(Y)"
      ]
    },
    {
      "cell_type": "code",
      "execution_count": 9,
      "metadata": {
        "id": "I7YVKHT1zAOg"
      },
      "outputs": [],
      "source": [
        "scaler=StandardScaler()\n",
        "X_train=scaler.fit_transform(X_train)\n",
        "X_test=scaler.transform(X_test)\n",
        "Y_train=np.array(Y_train)\n",
        "Y_test=np.array(Y_test)\n"
      ]
    },
    {
      "cell_type": "code",
      "execution_count": 10,
      "metadata": {
        "colab": {
          "base_uri": "https://localhost:8080/",
          "height": 74
        },
        "id": "S31CALjyzAOh",
        "outputId": "629be1d1-a08c-41cc-d3e5-bc19387f8829"
      },
      "outputs": [
        {
          "output_type": "execute_result",
          "data": {
            "text/plain": [
              "SVC(gamma='auto', kernel='sigmoid')"
            ],
            "text/html": [
              "<style>#sk-container-id-1 {color: black;background-color: white;}#sk-container-id-1 pre{padding: 0;}#sk-container-id-1 div.sk-toggleable {background-color: white;}#sk-container-id-1 label.sk-toggleable__label {cursor: pointer;display: block;width: 100%;margin-bottom: 0;padding: 0.3em;box-sizing: border-box;text-align: center;}#sk-container-id-1 label.sk-toggleable__label-arrow:before {content: \"▸\";float: left;margin-right: 0.25em;color: #696969;}#sk-container-id-1 label.sk-toggleable__label-arrow:hover:before {color: black;}#sk-container-id-1 div.sk-estimator:hover label.sk-toggleable__label-arrow:before {color: black;}#sk-container-id-1 div.sk-toggleable__content {max-height: 0;max-width: 0;overflow: hidden;text-align: left;background-color: #f0f8ff;}#sk-container-id-1 div.sk-toggleable__content pre {margin: 0.2em;color: black;border-radius: 0.25em;background-color: #f0f8ff;}#sk-container-id-1 input.sk-toggleable__control:checked~div.sk-toggleable__content {max-height: 200px;max-width: 100%;overflow: auto;}#sk-container-id-1 input.sk-toggleable__control:checked~label.sk-toggleable__label-arrow:before {content: \"▾\";}#sk-container-id-1 div.sk-estimator input.sk-toggleable__control:checked~label.sk-toggleable__label {background-color: #d4ebff;}#sk-container-id-1 div.sk-label input.sk-toggleable__control:checked~label.sk-toggleable__label {background-color: #d4ebff;}#sk-container-id-1 input.sk-hidden--visually {border: 0;clip: rect(1px 1px 1px 1px);clip: rect(1px, 1px, 1px, 1px);height: 1px;margin: -1px;overflow: hidden;padding: 0;position: absolute;width: 1px;}#sk-container-id-1 div.sk-estimator {font-family: monospace;background-color: #f0f8ff;border: 1px dotted black;border-radius: 0.25em;box-sizing: border-box;margin-bottom: 0.5em;}#sk-container-id-1 div.sk-estimator:hover {background-color: #d4ebff;}#sk-container-id-1 div.sk-parallel-item::after {content: \"\";width: 100%;border-bottom: 1px solid gray;flex-grow: 1;}#sk-container-id-1 div.sk-label:hover label.sk-toggleable__label {background-color: #d4ebff;}#sk-container-id-1 div.sk-serial::before {content: \"\";position: absolute;border-left: 1px solid gray;box-sizing: border-box;top: 0;bottom: 0;left: 50%;z-index: 0;}#sk-container-id-1 div.sk-serial {display: flex;flex-direction: column;align-items: center;background-color: white;padding-right: 0.2em;padding-left: 0.2em;position: relative;}#sk-container-id-1 div.sk-item {position: relative;z-index: 1;}#sk-container-id-1 div.sk-parallel {display: flex;align-items: stretch;justify-content: center;background-color: white;position: relative;}#sk-container-id-1 div.sk-item::before, #sk-container-id-1 div.sk-parallel-item::before {content: \"\";position: absolute;border-left: 1px solid gray;box-sizing: border-box;top: 0;bottom: 0;left: 50%;z-index: -1;}#sk-container-id-1 div.sk-parallel-item {display: flex;flex-direction: column;z-index: 1;position: relative;background-color: white;}#sk-container-id-1 div.sk-parallel-item:first-child::after {align-self: flex-end;width: 50%;}#sk-container-id-1 div.sk-parallel-item:last-child::after {align-self: flex-start;width: 50%;}#sk-container-id-1 div.sk-parallel-item:only-child::after {width: 0;}#sk-container-id-1 div.sk-dashed-wrapped {border: 1px dashed gray;margin: 0 0.4em 0.5em 0.4em;box-sizing: border-box;padding-bottom: 0.4em;background-color: white;}#sk-container-id-1 div.sk-label label {font-family: monospace;font-weight: bold;display: inline-block;line-height: 1.2em;}#sk-container-id-1 div.sk-label-container {text-align: center;}#sk-container-id-1 div.sk-container {/* jupyter's `normalize.less` sets `[hidden] { display: none; }` but bootstrap.min.css set `[hidden] { display: none !important; }` so we also need the `!important` here to be able to override the default hidden behavior on the sphinx rendered scikit-learn.org. See: https://github.com/scikit-learn/scikit-learn/issues/21755 */display: inline-block !important;position: relative;}#sk-container-id-1 div.sk-text-repr-fallback {display: none;}</style><div id=\"sk-container-id-1\" class=\"sk-top-container\"><div class=\"sk-text-repr-fallback\"><pre>SVC(gamma=&#x27;auto&#x27;, kernel=&#x27;sigmoid&#x27;)</pre><b>In a Jupyter environment, please rerun this cell to show the HTML representation or trust the notebook. <br />On GitHub, the HTML representation is unable to render, please try loading this page with nbviewer.org.</b></div><div class=\"sk-container\" hidden><div class=\"sk-item\"><div class=\"sk-estimator sk-toggleable\"><input class=\"sk-toggleable__control sk-hidden--visually\" id=\"sk-estimator-id-1\" type=\"checkbox\" checked><label for=\"sk-estimator-id-1\" class=\"sk-toggleable__label sk-toggleable__label-arrow\">SVC</label><div class=\"sk-toggleable__content\"><pre>SVC(gamma=&#x27;auto&#x27;, kernel=&#x27;sigmoid&#x27;)</pre></div></div></div></div></div>"
            ]
          },
          "metadata": {},
          "execution_count": 10
        }
      ],
      "source": [
        "model = SVC(kernel='sigmoid', gamma='auto')\n",
        "model.fit(X_train, Y_train)\n",
        "\n"
      ]
    },
    {
      "cell_type": "code",
      "execution_count": 11,
      "metadata": {
        "id": "OInnpsFwzAOj"
      },
      "outputs": [],
      "source": [
        "Y_pred=model.predict(X_test)\n"
      ]
    },
    {
      "cell_type": "code",
      "execution_count": 12,
      "metadata": {
        "colab": {
          "base_uri": "https://localhost:8080/"
        },
        "id": "JFuAJ7bJzAOk",
        "outputId": "b5bfea1b-f4a4-4033-baf7-2fc0c9fc60e2"
      },
      "outputs": [
        {
          "output_type": "stream",
          "name": "stdout",
          "text": [
            "95.7912457912458 %\n"
          ]
        }
      ],
      "source": [
        "print((accuracy_score(Y_pred,Y_test))*100,\"%\")\n",
        "\n"
      ]
    },
    {
      "cell_type": "code",
      "execution_count": 13,
      "metadata": {
        "colab": {
          "base_uri": "https://localhost:8080/",
          "height": 74
        },
        "id": "1YMfBNSDzAOk",
        "outputId": "d4851047-7d03-4687-e122-1023386eebf1"
      },
      "outputs": [
        {
          "output_type": "execute_result",
          "data": {
            "text/plain": [
              "KNeighborsClassifier()"
            ],
            "text/html": [
              "<style>#sk-container-id-2 {color: black;background-color: white;}#sk-container-id-2 pre{padding: 0;}#sk-container-id-2 div.sk-toggleable {background-color: white;}#sk-container-id-2 label.sk-toggleable__label {cursor: pointer;display: block;width: 100%;margin-bottom: 0;padding: 0.3em;box-sizing: border-box;text-align: center;}#sk-container-id-2 label.sk-toggleable__label-arrow:before {content: \"▸\";float: left;margin-right: 0.25em;color: #696969;}#sk-container-id-2 label.sk-toggleable__label-arrow:hover:before {color: black;}#sk-container-id-2 div.sk-estimator:hover label.sk-toggleable__label-arrow:before {color: black;}#sk-container-id-2 div.sk-toggleable__content {max-height: 0;max-width: 0;overflow: hidden;text-align: left;background-color: #f0f8ff;}#sk-container-id-2 div.sk-toggleable__content pre {margin: 0.2em;color: black;border-radius: 0.25em;background-color: #f0f8ff;}#sk-container-id-2 input.sk-toggleable__control:checked~div.sk-toggleable__content {max-height: 200px;max-width: 100%;overflow: auto;}#sk-container-id-2 input.sk-toggleable__control:checked~label.sk-toggleable__label-arrow:before {content: \"▾\";}#sk-container-id-2 div.sk-estimator input.sk-toggleable__control:checked~label.sk-toggleable__label {background-color: #d4ebff;}#sk-container-id-2 div.sk-label input.sk-toggleable__control:checked~label.sk-toggleable__label {background-color: #d4ebff;}#sk-container-id-2 input.sk-hidden--visually {border: 0;clip: rect(1px 1px 1px 1px);clip: rect(1px, 1px, 1px, 1px);height: 1px;margin: -1px;overflow: hidden;padding: 0;position: absolute;width: 1px;}#sk-container-id-2 div.sk-estimator {font-family: monospace;background-color: #f0f8ff;border: 1px dotted black;border-radius: 0.25em;box-sizing: border-box;margin-bottom: 0.5em;}#sk-container-id-2 div.sk-estimator:hover {background-color: #d4ebff;}#sk-container-id-2 div.sk-parallel-item::after {content: \"\";width: 100%;border-bottom: 1px solid gray;flex-grow: 1;}#sk-container-id-2 div.sk-label:hover label.sk-toggleable__label {background-color: #d4ebff;}#sk-container-id-2 div.sk-serial::before {content: \"\";position: absolute;border-left: 1px solid gray;box-sizing: border-box;top: 0;bottom: 0;left: 50%;z-index: 0;}#sk-container-id-2 div.sk-serial {display: flex;flex-direction: column;align-items: center;background-color: white;padding-right: 0.2em;padding-left: 0.2em;position: relative;}#sk-container-id-2 div.sk-item {position: relative;z-index: 1;}#sk-container-id-2 div.sk-parallel {display: flex;align-items: stretch;justify-content: center;background-color: white;position: relative;}#sk-container-id-2 div.sk-item::before, #sk-container-id-2 div.sk-parallel-item::before {content: \"\";position: absolute;border-left: 1px solid gray;box-sizing: border-box;top: 0;bottom: 0;left: 50%;z-index: -1;}#sk-container-id-2 div.sk-parallel-item {display: flex;flex-direction: column;z-index: 1;position: relative;background-color: white;}#sk-container-id-2 div.sk-parallel-item:first-child::after {align-self: flex-end;width: 50%;}#sk-container-id-2 div.sk-parallel-item:last-child::after {align-self: flex-start;width: 50%;}#sk-container-id-2 div.sk-parallel-item:only-child::after {width: 0;}#sk-container-id-2 div.sk-dashed-wrapped {border: 1px dashed gray;margin: 0 0.4em 0.5em 0.4em;box-sizing: border-box;padding-bottom: 0.4em;background-color: white;}#sk-container-id-2 div.sk-label label {font-family: monospace;font-weight: bold;display: inline-block;line-height: 1.2em;}#sk-container-id-2 div.sk-label-container {text-align: center;}#sk-container-id-2 div.sk-container {/* jupyter's `normalize.less` sets `[hidden] { display: none; }` but bootstrap.min.css set `[hidden] { display: none !important; }` so we also need the `!important` here to be able to override the default hidden behavior on the sphinx rendered scikit-learn.org. See: https://github.com/scikit-learn/scikit-learn/issues/21755 */display: inline-block !important;position: relative;}#sk-container-id-2 div.sk-text-repr-fallback {display: none;}</style><div id=\"sk-container-id-2\" class=\"sk-top-container\"><div class=\"sk-text-repr-fallback\"><pre>KNeighborsClassifier()</pre><b>In a Jupyter environment, please rerun this cell to show the HTML representation or trust the notebook. <br />On GitHub, the HTML representation is unable to render, please try loading this page with nbviewer.org.</b></div><div class=\"sk-container\" hidden><div class=\"sk-item\"><div class=\"sk-estimator sk-toggleable\"><input class=\"sk-toggleable__control sk-hidden--visually\" id=\"sk-estimator-id-2\" type=\"checkbox\" checked><label for=\"sk-estimator-id-2\" class=\"sk-toggleable__label sk-toggleable__label-arrow\">KNeighborsClassifier</label><div class=\"sk-toggleable__content\"><pre>KNeighborsClassifier()</pre></div></div></div></div></div>"
            ]
          },
          "metadata": {},
          "execution_count": 13
        }
      ],
      "source": [
        "model1 = KNeighborsClassifier(n_neighbors=5)\n",
        "model1.fit(X_train,Y_train)\n",
        "\n"
      ]
    },
    {
      "cell_type": "code",
      "execution_count": 14,
      "metadata": {
        "id": "xQ9gJI0NzAOl"
      },
      "outputs": [],
      "source": [
        "Y_pred1=model1.predict(X_test)"
      ]
    },
    {
      "cell_type": "code",
      "execution_count": 15,
      "metadata": {
        "colab": {
          "base_uri": "https://localhost:8080/"
        },
        "id": "Bb9OduX7zAOl",
        "outputId": "112df215-ad04-4a79-b048-2dfbbff2bdd8"
      },
      "outputs": [
        {
          "output_type": "stream",
          "name": "stdout",
          "text": [
            "98.14814814814815 %\n"
          ]
        }
      ],
      "source": [
        "print((accuracy_score(Y_pred1,Y_test))*100,\"%\")"
      ]
    },
    {
      "cell_type": "code",
      "source": [
        "Y_train"
      ],
      "metadata": {
        "colab": {
          "base_uri": "https://localhost:8080/"
        },
        "id": "vfm5_B0M4gP8",
        "outputId": "5d667eef-1d91-4c1b-8928-1ee5f73161b9"
      },
      "execution_count": 16,
      "outputs": [
        {
          "output_type": "execute_result",
          "data": {
            "text/plain": [
              "array([4, 1, 1, ..., 1, 1, 1])"
            ]
          },
          "metadata": {},
          "execution_count": 16
        }
      ]
    },
    {
      "cell_type": "code",
      "execution_count": 17,
      "metadata": {
        "colab": {
          "base_uri": "https://localhost:8080/",
          "height": 74
        },
        "id": "EvoDykV7zAOm",
        "outputId": "dfbd9056-d1fb-4c9c-dbcd-767708c8de33"
      },
      "outputs": [
        {
          "output_type": "execute_result",
          "data": {
            "text/plain": [
              "GaussianNB()"
            ],
            "text/html": [
              "<style>#sk-container-id-3 {color: black;background-color: white;}#sk-container-id-3 pre{padding: 0;}#sk-container-id-3 div.sk-toggleable {background-color: white;}#sk-container-id-3 label.sk-toggleable__label {cursor: pointer;display: block;width: 100%;margin-bottom: 0;padding: 0.3em;box-sizing: border-box;text-align: center;}#sk-container-id-3 label.sk-toggleable__label-arrow:before {content: \"▸\";float: left;margin-right: 0.25em;color: #696969;}#sk-container-id-3 label.sk-toggleable__label-arrow:hover:before {color: black;}#sk-container-id-3 div.sk-estimator:hover label.sk-toggleable__label-arrow:before {color: black;}#sk-container-id-3 div.sk-toggleable__content {max-height: 0;max-width: 0;overflow: hidden;text-align: left;background-color: #f0f8ff;}#sk-container-id-3 div.sk-toggleable__content pre {margin: 0.2em;color: black;border-radius: 0.25em;background-color: #f0f8ff;}#sk-container-id-3 input.sk-toggleable__control:checked~div.sk-toggleable__content {max-height: 200px;max-width: 100%;overflow: auto;}#sk-container-id-3 input.sk-toggleable__control:checked~label.sk-toggleable__label-arrow:before {content: \"▾\";}#sk-container-id-3 div.sk-estimator input.sk-toggleable__control:checked~label.sk-toggleable__label {background-color: #d4ebff;}#sk-container-id-3 div.sk-label input.sk-toggleable__control:checked~label.sk-toggleable__label {background-color: #d4ebff;}#sk-container-id-3 input.sk-hidden--visually {border: 0;clip: rect(1px 1px 1px 1px);clip: rect(1px, 1px, 1px, 1px);height: 1px;margin: -1px;overflow: hidden;padding: 0;position: absolute;width: 1px;}#sk-container-id-3 div.sk-estimator {font-family: monospace;background-color: #f0f8ff;border: 1px dotted black;border-radius: 0.25em;box-sizing: border-box;margin-bottom: 0.5em;}#sk-container-id-3 div.sk-estimator:hover {background-color: #d4ebff;}#sk-container-id-3 div.sk-parallel-item::after {content: \"\";width: 100%;border-bottom: 1px solid gray;flex-grow: 1;}#sk-container-id-3 div.sk-label:hover label.sk-toggleable__label {background-color: #d4ebff;}#sk-container-id-3 div.sk-serial::before {content: \"\";position: absolute;border-left: 1px solid gray;box-sizing: border-box;top: 0;bottom: 0;left: 50%;z-index: 0;}#sk-container-id-3 div.sk-serial {display: flex;flex-direction: column;align-items: center;background-color: white;padding-right: 0.2em;padding-left: 0.2em;position: relative;}#sk-container-id-3 div.sk-item {position: relative;z-index: 1;}#sk-container-id-3 div.sk-parallel {display: flex;align-items: stretch;justify-content: center;background-color: white;position: relative;}#sk-container-id-3 div.sk-item::before, #sk-container-id-3 div.sk-parallel-item::before {content: \"\";position: absolute;border-left: 1px solid gray;box-sizing: border-box;top: 0;bottom: 0;left: 50%;z-index: -1;}#sk-container-id-3 div.sk-parallel-item {display: flex;flex-direction: column;z-index: 1;position: relative;background-color: white;}#sk-container-id-3 div.sk-parallel-item:first-child::after {align-self: flex-end;width: 50%;}#sk-container-id-3 div.sk-parallel-item:last-child::after {align-self: flex-start;width: 50%;}#sk-container-id-3 div.sk-parallel-item:only-child::after {width: 0;}#sk-container-id-3 div.sk-dashed-wrapped {border: 1px dashed gray;margin: 0 0.4em 0.5em 0.4em;box-sizing: border-box;padding-bottom: 0.4em;background-color: white;}#sk-container-id-3 div.sk-label label {font-family: monospace;font-weight: bold;display: inline-block;line-height: 1.2em;}#sk-container-id-3 div.sk-label-container {text-align: center;}#sk-container-id-3 div.sk-container {/* jupyter's `normalize.less` sets `[hidden] { display: none; }` but bootstrap.min.css set `[hidden] { display: none !important; }` so we also need the `!important` here to be able to override the default hidden behavior on the sphinx rendered scikit-learn.org. See: https://github.com/scikit-learn/scikit-learn/issues/21755 */display: inline-block !important;position: relative;}#sk-container-id-3 div.sk-text-repr-fallback {display: none;}</style><div id=\"sk-container-id-3\" class=\"sk-top-container\"><div class=\"sk-text-repr-fallback\"><pre>GaussianNB()</pre><b>In a Jupyter environment, please rerun this cell to show the HTML representation or trust the notebook. <br />On GitHub, the HTML representation is unable to render, please try loading this page with nbviewer.org.</b></div><div class=\"sk-container\" hidden><div class=\"sk-item\"><div class=\"sk-estimator sk-toggleable\"><input class=\"sk-toggleable__control sk-hidden--visually\" id=\"sk-estimator-id-3\" type=\"checkbox\" checked><label for=\"sk-estimator-id-3\" class=\"sk-toggleable__label sk-toggleable__label-arrow\">GaussianNB</label><div class=\"sk-toggleable__content\"><pre>GaussianNB()</pre></div></div></div></div></div>"
            ]
          },
          "metadata": {},
          "execution_count": 17
        }
      ],
      "source": [
        "model2 = GaussianNB()\n",
        "model2.fit(X_train,Y_train,sample_weight=None)\n",
        "\n"
      ]
    },
    {
      "cell_type": "code",
      "execution_count": 18,
      "metadata": {
        "id": "kRBTbqvTzAOm"
      },
      "outputs": [],
      "source": [
        "Y_pred2=model2.predict(X_test)"
      ]
    },
    {
      "cell_type": "code",
      "execution_count": 19,
      "metadata": {
        "colab": {
          "base_uri": "https://localhost:8080/"
        },
        "id": "2KA0JpkszAOm",
        "outputId": "2f6248da-7212-49b7-f568-ac3c2ca8eae1"
      },
      "outputs": [
        {
          "output_type": "stream",
          "name": "stdout",
          "text": [
            "95.62289562289563 %\n"
          ]
        }
      ],
      "source": [
        "print((accuracy_score(Y_pred2,Y_test))*100,\"%\")"
      ]
    },
    {
      "cell_type": "code",
      "execution_count": 20,
      "metadata": {
        "id": "fp30k9FezAOn"
      },
      "outputs": [],
      "source": [
        "train_x,val_x,train_y,val_y=train_test_split(X_train,Y_train,stratify=Y_train,test_size=0.2,random_state=0)\n",
        "\n"
      ]
    },
    {
      "cell_type": "code",
      "execution_count": 21,
      "metadata": {
        "colab": {
          "base_uri": "https://localhost:8080/"
        },
        "id": "Nh4h5k6pzAOn",
        "outputId": "561bccfb-0e5e-47b0-ecfe-858e0c6fdc84"
      },
      "outputs": [
        {
          "output_type": "stream",
          "name": "stdout",
          "text": [
            "(2374, 27) (594, 27)\n"
          ]
        }
      ],
      "source": [
        "print(X_train.shape,X_test.shape)\n",
        "\n"
      ]
    },
    {
      "cell_type": "code",
      "execution_count": 22,
      "metadata": {
        "colab": {
          "base_uri": "https://localhost:8080/",
          "height": 36
        },
        "id": "P_X2h0RkzAOn",
        "outputId": "3ccdf49a-7205-41c0-8737-90ae9fa84f52"
      },
      "outputs": [
        {
          "output_type": "execute_result",
          "data": {
            "text/plain": [
              "'\\nThe columns list contains the names of the columns or features in your dataset\\n\\n'"
            ],
            "application/vnd.google.colaboratory.intrinsic+json": {
              "type": "string"
            }
          },
          "metadata": {},
          "execution_count": 22
        }
      ],
      "source": [
        "columns=['SRC_ADD','DES_ADD','PKT_ID','FROM_NODE','TO_NODE','PKT_TYPE','PKT_SIZE','FLAGS','FID','SEQ_NUMBER','NUMBER_OF_PKT','NUMBER_OF_BYTE','NODE_NAME_FROM','NODE_NAME_TO',' PKT_IN','PKT_OUT','PKT_R','PKT_DELAY_NODE','PKT_RATE','BYTE_RATE','PKT_AVG_SIZE','UTILIZATION','PKT_DELAY','PKT_SEND_TIME','PKT_RESEVED_TIME','FIRST_PKT_SENT',' LAST_PKT_RESEVED','PKT_CLASS']\n",
        "\n",
        "\"\"\"\n",
        "The columns list contains the names of the columns or features in your dataset\n",
        "\n",
        "\"\"\""
      ]
    },
    {
      "cell_type": "code",
      "execution_count": 23,
      "metadata": {
        "colab": {
          "base_uri": "https://localhost:8080/",
          "height": 36
        },
        "id": "ES6ARaEezAOn",
        "outputId": "e34cc35d-7812-403d-cf50-2e7fd9f7bf1f"
      },
      "outputs": [
        {
          "output_type": "execute_result",
          "data": {
            "text/plain": [
              "'\\nThe fit method is called to train the SVM classifier on the training data (X_train and Y_train).\\n\\n'"
            ],
            "application/vnd.google.colaboratory.intrinsic+json": {
              "type": "string"
            }
          },
          "metadata": {},
          "execution_count": 23
        }
      ],
      "source": [
        "model=SVC(kernel='sigmoid',gamma='auto')\n",
        "model.fit(X_train,Y_train)\n",
        "y_val_pred=model.predict(val_x)\n",
        "y_val_pred=pd.DataFrame(y_val_pred)\n",
        "y_test_pred=model.predict(X_test)\n",
        "y_test_pred=pd.DataFrame(y_test_pred)\n",
        "\n",
        "\"\"\"\n",
        "The fit method is called to train the SVM classifier on the training data (X_train and Y_train).\n",
        "\n",
        "\"\"\""
      ]
    },
    {
      "cell_type": "code",
      "execution_count": 24,
      "metadata": {
        "colab": {
          "base_uri": "https://localhost:8080/",
          "height": 36
        },
        "id": "BvP2N9GkzAOo",
        "outputId": "35466519-3dbd-412c-81f7-e5ee64f7c2c7"
      },
      "outputs": [
        {
          "output_type": "execute_result",
          "data": {
            "text/plain": [
              "'\\nThe fit method is then called to train the kNN classifier on the training data (X_train and Y_train).\\n\\n'"
            ],
            "application/vnd.google.colaboratory.intrinsic+json": {
              "type": "string"
            }
          },
          "metadata": {},
          "execution_count": 24
        }
      ],
      "source": [
        "model1 = KNeighborsClassifier(n_neighbors=22)\n",
        "model1.fit(X_train,Y_train)\n",
        "y_val_pred1=model1.predict(val_x)\n",
        "y_val_pred1=pd.DataFrame(y_val_pred1)\n",
        "y_test_pred1=model1.predict(X_test)\n",
        "y_test_pred1=pd.DataFrame(y_test_pred1)\n",
        "\n",
        "\"\"\"\n",
        "The fit method is then called to train the kNN classifier on the training data (X_train and Y_train).\n",
        "\n",
        "\"\"\""
      ]
    },
    {
      "cell_type": "code",
      "execution_count": 25,
      "metadata": {
        "colab": {
          "base_uri": "https://localhost:8080/",
          "height": 36
        },
        "id": "3GX2LZXezAOo",
        "outputId": "c012cc0e-09ee-43c3-c395-318f4a3b3e20"
      },
      "outputs": [
        {
          "output_type": "execute_result",
          "data": {
            "text/plain": [
              "'\\nThe fit method is called to train the Gaussian Naive Bayes classifier on the training data (X_train and Y_train).\\n\\n'"
            ],
            "application/vnd.google.colaboratory.intrinsic+json": {
              "type": "string"
            }
          },
          "metadata": {},
          "execution_count": 25
        }
      ],
      "source": [
        "model2 = GaussianNB()\n",
        "model2.fit(X_train,Y_train)\n",
        "y_val_pred2=model2.predict(val_x)\n",
        "y_val_pred2=pd.DataFrame(y_val_pred2)\n",
        "y_test_pred2=model2.predict(X_test)\n",
        "y_test_pred2=pd.DataFrame(y_test_pred2)\n",
        "\n",
        "\"\"\"\n",
        "The fit method is called to train the Gaussian Naive Bayes classifier on the training data (X_train and Y_train).\n",
        "\n",
        "\"\"\""
      ]
    },
    {
      "cell_type": "code",
      "source": [
        "y_val_pred1.shape"
      ],
      "metadata": {
        "colab": {
          "base_uri": "https://localhost:8080/"
        },
        "id": "V3ApDQn-51x_",
        "outputId": "0003a448-d7c0-4fb0-a4de-adc4d088300d"
      },
      "execution_count": 26,
      "outputs": [
        {
          "output_type": "execute_result",
          "data": {
            "text/plain": [
              "(475, 1)"
            ]
          },
          "metadata": {},
          "execution_count": 26
        }
      ]
    },
    {
      "cell_type": "code",
      "source": [
        "val_x"
      ],
      "metadata": {
        "colab": {
          "base_uri": "https://localhost:8080/"
        },
        "id": "XyYQcsUu8B9F",
        "outputId": "f1d41cbc-3d7d-4ecd-e1b8-775edef13c82"
      },
      "execution_count": 27,
      "outputs": [
        {
          "output_type": "execute_result",
          "data": {
            "text/plain": [
              "array([[-0.06389082,  0.7324187 ,  0.52646317, ...,  0.25216109,\n",
              "         2.3123526 ,  1.51548685],\n",
              "       [ 1.12719919, -1.38592255,  1.31569524, ...,  0.90730805,\n",
              "        -0.43073502, -0.03230497],\n",
              "       [-1.42513655,  0.71855823,  0.41852227, ...,  0.16259954,\n",
              "         2.3123526 ,  1.51546205],\n",
              "       ...,\n",
              "       [ 0.04954632,  0.73357374,  1.10346956, ...,  0.73119027,\n",
              "         2.3123526 ,  1.51549677],\n",
              "       [-0.64242025,  0.79710087,  0.57704746, ...,  0.29417502,\n",
              "        -0.43417367, -0.0341045 ],\n",
              "       [-0.63107654,  0.7266435 ,  1.10875065, ...,  0.73566899,\n",
              "         2.3123526 ,  1.51553149]])"
            ]
          },
          "metadata": {},
          "execution_count": 27
        }
      ]
    },
    {
      "cell_type": "code",
      "execution_count": 28,
      "metadata": {
        "id": "xekmqxNMzAOo"
      },
      "outputs": [],
      "source": [
        "val_input=pd.concat([pd.DataFrame(val_x),y_val_pred,y_val_pred1,y_val_pred2],axis=1)\n",
        "test_input=pd.concat([pd.DataFrame(X_test),y_test_pred,y_test_pred1,y_test_pred2],axis=1)\n",
        "\n"
      ]
    },
    {
      "cell_type": "code",
      "execution_count": 29,
      "metadata": {
        "id": "ZDRbyqggzAOo",
        "colab": {
          "base_uri": "https://localhost:8080/",
          "height": 53
        },
        "outputId": "7dce301a-4bdd-4f32-df99-9570a34b4821"
      },
      "outputs": [
        {
          "output_type": "execute_result",
          "data": {
            "text/plain": [
              "'\\nThe n_estimators parameter specifies the number of decision trees in the random forest.\\nThe fit method is called to train the random forest classifier using the validation input data val_input and the validation labels val_y.\\n\\n'"
            ],
            "application/vnd.google.colaboratory.intrinsic+json": {
              "type": "string"
            }
          },
          "metadata": {},
          "execution_count": 29
        }
      ],
      "source": [
        "model3=RandomForestClassifier(n_estimators=1000)\n",
        "model3.fit(val_input,val_y)\n",
        "\n",
        "\n",
        "\"\"\"\n",
        "The n_estimators parameter specifies the number of decision trees in the random forest.\n",
        "The fit method is called to train the random forest classifier using the validation input data val_input and the validation labels val_y.\n",
        "\n",
        "\"\"\""
      ]
    },
    {
      "cell_type": "code",
      "execution_count": 30,
      "metadata": {
        "id": "nqz1_0rUzAOp",
        "colab": {
          "base_uri": "https://localhost:8080/",
          "height": 70
        },
        "outputId": "a461f9ac-4bc1-4081-a2d3-d8abdced132b"
      },
      "outputs": [
        {
          "output_type": "stream",
          "name": "stdout",
          "text": [
            "98.14814814814815 %\n"
          ]
        },
        {
          "output_type": "execute_result",
          "data": {
            "text/plain": [
              "'\\nThe score method of the Random Forest model calculates the mean accuracy on the given test data test_input and the corresponding true labels y_test\\n\\n'"
            ],
            "application/vnd.google.colaboratory.intrinsic+json": {
              "type": "string"
            }
          },
          "metadata": {},
          "execution_count": 30
        }
      ],
      "source": [
        "print(model3.score(test_input,Y_test)*100,\"%\")\n",
        "\n",
        "\"\"\"\n",
        "The score method of the Random Forest model calculates the mean accuracy on the given test data test_input and the corresponding true labels y_test\n",
        "\n",
        "\"\"\""
      ]
    },
    {
      "cell_type": "code",
      "source": [
        "print(val_input)"
      ],
      "metadata": {
        "colab": {
          "base_uri": "https://localhost:8080/"
        },
        "id": "AqFxYINQ9CMY",
        "outputId": "99e1de2d-1cf8-4a1e-83bd-a30a42eae1c1"
      },
      "execution_count": 31,
      "outputs": [
        {
          "output_type": "stream",
          "name": "stdout",
          "text": [
            "           0         1         2         3         4         5         6   \\\n",
            "0   -0.063891  0.732419  0.526463  0.527929  0.607817 -0.292660 -0.013488   \n",
            "1    1.127199 -1.385923  1.315695  0.690907  0.421171 -1.047029 -0.286677   \n",
            "2   -1.425137  0.718558  0.418522 -2.894615  0.047880 -0.292660 -0.013488   \n",
            "3   -0.415546  0.705853  0.248370  0.364950  0.421171  1.216079  0.142620   \n",
            "4    1.138543 -1.270419  0.360780  0.201972 -2.565158 -1.047029 -0.286677   \n",
            "..        ...       ...       ...       ...       ...       ...       ...   \n",
            "470  1.104512 -1.616930  1.446067  0.690907  0.421171 -1.047029 -0.286677   \n",
            "471  1.071615 -0.808403  0.171273  0.527929  0.234526 -1.047029 -0.286677   \n",
            "472  0.049546  0.733574  1.103470  0.364950  0.421171 -0.292660 -0.013488   \n",
            "473 -0.642420  0.797101  0.577047 -1.753767  0.047880  1.216079  0.142620   \n",
            "474 -0.631077  0.726644  1.108751  0.527929  0.607817 -0.292660 -0.013488   \n",
            "\n",
            "           7         8         9   ...        20        21        22  \\\n",
            "0   -0.029037  1.984216 -0.132387  ... -0.013487 -0.476247 -0.213580   \n",
            "1   -0.029037 -0.588889 -0.038110  ... -0.286676 -0.980723 -0.291759   \n",
            "2   -0.029037  0.881457 -0.133754  ... -0.013487 -0.476247 -0.273409   \n",
            "3   -0.029037 -0.129406 -0.073534  ...  0.142620  1.267880 -0.291759   \n",
            "4   -0.029037 -0.496993 -0.069930  ... -0.286676 -0.980723 -0.291759   \n",
            "..        ...       ...       ...  ...       ...       ...       ...   \n",
            "470 -0.029037 -0.772683 -0.033717  ... -0.286676 -0.980723 -0.291759   \n",
            "471 -0.029037 -0.129406 -0.076146  ... -0.286676 -0.980664 -0.291759   \n",
            "472 -0.029037  2.076113 -0.125069  ... -0.013487 -0.476247 -0.249420   \n",
            "473 -0.029037 -0.313199 -0.062647  ...  0.142620  1.265277 -0.221178   \n",
            "474 -0.029037  1.524733 -0.125001  ... -0.013487 -0.476247 -0.226769   \n",
            "\n",
            "           23        24        25        26  0   0   0   \n",
            "0    0.252254  0.252161  2.312353  1.515487   1   1   1  \n",
            "1    0.907560  0.907308 -0.430735 -0.032305   1   1   1  \n",
            "2    0.162754  0.162600  2.312353  1.515462   1   1   1  \n",
            "3    0.021305  0.021148 -0.434174 -0.034955   1   1   1  \n",
            "4    0.114666  0.114481 -0.430735 -0.032259   1   1   1  \n",
            "..        ...       ...       ...       ...  ..  ..  ..  \n",
            "470  1.015726  1.015466 -0.430737 -0.032537   1   1   1  \n",
            "471 -0.042688 -0.042860 -0.430738 -0.033094   1   1   1  \n",
            "472  0.731365  0.731190  2.312353  1.515497   1   1   1  \n",
            "473  0.294273  0.294175 -0.434174 -0.034104   1   1   1  \n",
            "474  0.735818  0.735669  2.312353  1.515531   1   1   1  \n",
            "\n",
            "[475 rows x 30 columns]\n"
          ]
        }
      ]
    },
    {
      "cell_type": "code",
      "source": [
        "data.loc[167]"
      ],
      "metadata": {
        "colab": {
          "base_uri": "https://localhost:8080/"
        },
        "id": "YMn5PhEO9KIJ",
        "outputId": "fab3c978-a30c-48d1-bc43-06d9a530abad"
      },
      "execution_count": 32,
      "outputs": [
        {
          "output_type": "execute_result",
          "data": {
            "text/plain": [
              "SRC_ADD             9.100000e+00\n",
              "DES_ADD             2.429000e+01\n",
              "PKT_ID              4.717840e+05\n",
              "FROM_NODE           2.300000e+01\n",
              "TO_NODE             2.400000e+01\n",
              "PKT_TYPE            1.000000e+00\n",
              "PKT_SIZE            1.000000e+03\n",
              "FLAGS               0.000000e+00\n",
              "FID                 3.000000e+01\n",
              "SEQ_NUMBER          2.102000e+03\n",
              "NUMBER_OF_PKT       6.250000e+03\n",
              "NUMBER_OF_BYTE      6.250000e+06\n",
              "NODE_NAME_FROM      0.000000e+00\n",
              "NODE_NAME_TO        2.600000e+01\n",
              "PKT_IN              4.183693e+01\n",
              "PKT_OUT             4.183778e+01\n",
              "PKT_R               4.184786e+01\n",
              "PKT_DELAY_NODE      8.430000e-04\n",
              "PKT_RATE            1.249408e+02\n",
              "BYTE_RATE           1.249410e+05\n",
              "PKT_AVG_SIZE        1.000000e+03\n",
              "UTILIZATION         5.960500e-02\n",
              "PKT_DELAY           1.616000e-03\n",
              "PKT_SEND_TIME       4.181600e+01\n",
              "PKT_RESEVED_TIME    4.184786e+01\n",
              "FIRST_PKT_SENT      2.500000e+01\n",
              "LAST_PKT_RESEVED    7.502368e+01\n",
              "PKT_CLASS           1.000000e+00\n",
              "Name: 167, dtype: float64"
            ]
          },
          "metadata": {},
          "execution_count": 32
        }
      ]
    },
    {
      "cell_type": "code",
      "source": [
        "import pickle\n",
        "filename = \"/content/Dos_model.pkl\"\n",
        "pickle.dump(model3, open(filename, 'wb'))\n"
      ],
      "metadata": {
        "id": "othjxHrQZNg-"
      },
      "execution_count": 33,
      "outputs": []
    }
  ],
  "metadata": {
    "kernelspec": {
      "display_name": "Python 3",
      "language": "python",
      "name": "python3"
    },
    "language_info": {
      "codemirror_mode": {
        "name": "ipython",
        "version": 3
      },
      "file_extension": ".py",
      "mimetype": "text/x-python",
      "name": "python",
      "nbconvert_exporter": "python",
      "pygments_lexer": "ipython3",
      "version": "3.9.6"
    },
    "orig_nbformat": 4,
    "vscode": {
      "interpreter": {
        "hash": "b247ce12b8c619a8835a63c4acb3cfb073d5fb0accca74ae59d1a34b1bea2a5a"
      }
    },
    "colab": {
      "provenance": []
    }
  },
  "nbformat": 4,
  "nbformat_minor": 0
}